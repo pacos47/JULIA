{
 "cells": [
  {
   "cell_type": "code",
   "execution_count": 3,
   "id": "d4ee3b01-56e9-4214-a6c1-9e3669c9f037",
   "metadata": {},
   "outputs": [
    {
     "name": "stdout",
     "output_type": "stream",
     "text": [
      "🎉 Julia is working!\n",
      "First 10 squares: [1, 4, 9, 16, 25, 36, 49, 64, 81, 100]\n",
      "✅ Plot saved as squares_plot.png\n"
     ]
    }
   ],
   "source": [
    "# test_julia_setup.jl\n",
    "\n",
    "println(\"🎉 Julia is working!\")\n",
    "\n",
    "# Generate and print first 10 square numbers\n",
    "squares = [x^2 for x in 1:10]\n",
    "println(\"First 10 squares: \", squares)\n",
    "\n",
    "# Plotting (optional)\n",
    "try\n",
    "    using Plots\n",
    "    plot(1:10, squares, label=\"x^2\", title=\"Square Numbers\", xlabel=\"x\", ylabel=\"x^2\")\n",
    "    savefig(\"squares_plot.png\")\n",
    "    println(\"✅ Plot saved as squares_plot.png\")\n",
    "catch e\n",
    "    println(\"⚠️ Plotting failed: \", e)\n",
    "    println(\"Tip: Run `using Pkg; Pkg.add(\\\"Plots\\\")` to install the Plots package.\")\n",
    "end"
   ]
  },
  {
   "cell_type": "code",
   "execution_count": null,
   "id": "7b38327c-a788-443b-81f5-212ef5a466a5",
   "metadata": {},
   "outputs": [],
   "source": []
  }
 ],
 "metadata": {
  "kernelspec": {
   "display_name": "Julia 1.10.9",
   "language": "julia",
   "name": "julia-1.10"
  },
  "language_info": {
   "file_extension": ".jl",
   "mimetype": "application/julia",
   "name": "julia",
   "version": "1.10.9"
  }
 },
 "nbformat": 4,
 "nbformat_minor": 5
}
